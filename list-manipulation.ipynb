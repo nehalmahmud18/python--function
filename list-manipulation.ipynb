{
 "cells": [
  {
   "cell_type": "code",
   "execution_count": 1,
   "metadata": {},
   "outputs": [],
   "source": [
    "def remove_duplicate(input_list):\n",
    "    unique_list = []\n",
    "    \n",
    "    for item in input_list:\n",
    "        if item not in unique_list:\n",
    "            unique_list.append(item)\n",
    "    \n",
    "    return unique_list\n"
   ]
  },
  {
   "cell_type": "code",
   "execution_count": 3,
   "metadata": {},
   "outputs": [
    {
     "name": "stdout",
     "output_type": "stream",
     "text": [
      "real list[1, 2, 4, 3, 5, 2, 3, 7, 8]\n",
      "unique list[1, 2, 4, 3, 5, 7, 8]\n"
     ]
    }
   ],
   "source": [
    "input_list = [1,2,4, 3,5,2,3,7,8]\n",
    "remove_duplicate(input_list)\n",
    "\n",
    "print(f'real list{input_list}')\n",
    "print(f'unique list{remove_duplicate(input_list)}')"
   ]
  },
  {
   "cell_type": "code",
   "execution_count": 5,
   "metadata": {},
   "outputs": [
    {
     "data": {
      "text/plain": [
       "[2, 4, 8, 6, 10, 4, 6, 14, 16]"
      ]
     },
     "execution_count": 5,
     "metadata": {},
     "output_type": "execute_result"
    }
   ],
   "source": [
    "def double_list(input_list):\n",
    "    double_list = [2* x for x in input_list]\n",
    "\n",
    "    \n",
    "    return double_list\n",
    "input_list = [1,2,4, 3,5,2,3,7,8]\n",
    "double_list(input_list)"
   ]
  },
  {
   "cell_type": "code",
   "execution_count": null,
   "metadata": {},
   "outputs": [],
   "source": []
  }
 ],
 "metadata": {
  "kernelspec": {
   "display_name": ".venv",
   "language": "python",
   "name": "python3"
  },
  "language_info": {
   "codemirror_mode": {
    "name": "ipython",
    "version": 3
   },
   "file_extension": ".py",
   "mimetype": "text/x-python",
   "name": "python",
   "nbconvert_exporter": "python",
   "pygments_lexer": "ipython3",
   "version": "3.12.0"
  }
 },
 "nbformat": 4,
 "nbformat_minor": 2
}
